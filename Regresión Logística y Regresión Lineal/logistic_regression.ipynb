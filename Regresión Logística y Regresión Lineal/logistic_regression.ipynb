{
 "cells": [
  {
   "cell_type": "markdown",
   "source": "# Regresión logística",
   "metadata": {
    "tags": [],
    "cell_id": "00000-ee8d61b5-833e-4257-84e2-b38f8bc9e25f",
    "deepnote_cell_type": "text-cell-h1"
   }
  },
  {
   "cell_type": "markdown",
   "source": "Una regresión logística surge cunado nuestros datos de entrada X ya tienen una categoría, como por ejemplo que sea sólo True o False, 1 o 0, rojo o verde, etc. Estas son para clasificar más que para predecir como la regresión lineal.",
   "metadata": {
    "tags": [],
    "cell_id": "00001-3991264f-81eb-4e2f-8280-a55b9f23ed56",
    "deepnote_cell_type": "markdown"
   }
  },
  {
   "cell_type": "markdown",
   "source": "Ahora en vez de tener una línea recta, tenemos una lineal algo curveada en donde antes de la curva sería un false, por ejemplo, y pór arriba de la curva un true. Esta se representa de la siguiente forma:\n![GitHub Logo](/work/Regresión Logística y Regresión Lineal/2021-06-25_15h54_45.png)",
   "metadata": {
    "tags": [],
    "cell_id": "00002-3aed48a3-7006-4351-bf96-3271563c53cb",
    "deepnote_cell_type": "markdown"
   }
  },
  {
   "cell_type": "markdown",
   "source": "## Importando nuestras librerías",
   "metadata": {
    "tags": [],
    "cell_id": "00003-1939e761-f99e-4a8b-be24-8eb76669938c",
    "deepnote_cell_type": "text-cell-h2"
   }
  },
  {
   "cell_type": "code",
   "metadata": {
    "tags": [],
    "cell_id": "00000-8ae4206b-03fd-41b4-acc5-8686d8f4d51b",
    "deepnote_to_be_reexecuted": false,
    "source_hash": "8c5ad7fb",
    "execution_start": 1624658815566,
    "execution_millis": 0,
    "deepnote_cell_type": "code"
   },
   "source": "import pandas as pd\nfrom sklearn import metrics\nfrom sklearn.model_selection import train_test_split\nfrom sklearn.linear_model import LogisticRegression\nimport matplotlib.pyplot as plt\nimport seaborn as sns\nimport numpy as np\n%matplotlib inline",
   "outputs": [],
   "execution_count": null
  },
  {
   "cell_type": "markdown",
   "source": "## Cargando y visualizando nuestro dataset",
   "metadata": {
    "tags": [],
    "cell_id": "00005-3f954644-9b95-404c-9c94-99cdb36c889b",
    "deepnote_cell_type": "text-cell-h2"
   }
  },
  {
   "cell_type": "code",
   "source": "dataset = pd.read_csv('/datasets/diabetes/diabetes.csv')\ndataset.head(5)",
   "metadata": {
    "tags": [],
    "cell_id": "00005-e8a6d8dd-5d99-400a-9eec-b2ef35103af9",
    "deepnote_to_be_reexecuted": false,
    "source_hash": "77647174",
    "execution_start": 1624655468700,
    "execution_millis": 55,
    "deepnote_cell_type": "code"
   },
   "outputs": [
    {
     "output_type": "execute_result",
     "execution_count": 4,
     "data": {
      "application/vnd.deepnote.dataframe.v2+json": {
       "row_count": 5,
       "column_count": 9,
       "columns": [
        {
         "name": "Pregnancies",
         "dtype": "int64",
         "stats": {
          "unique_count": 4,
          "nan_count": 0,
          "min": "0",
          "max": "8",
          "histogram": [
           {
            "bin_start": 0,
            "bin_end": 0.8,
            "count": 1
           },
           {
            "bin_start": 0.8,
            "bin_end": 1.6,
            "count": 2
           },
           {
            "bin_start": 1.6,
            "bin_end": 2.4000000000000004,
            "count": 0
           },
           {
            "bin_start": 2.4000000000000004,
            "bin_end": 3.2,
            "count": 0
           },
           {
            "bin_start": 3.2,
            "bin_end": 4,
            "count": 0
           },
           {
            "bin_start": 4,
            "bin_end": 4.800000000000001,
            "count": 0
           },
           {
            "bin_start": 4.800000000000001,
            "bin_end": 5.6000000000000005,
            "count": 0
           },
           {
            "bin_start": 5.6000000000000005,
            "bin_end": 6.4,
            "count": 1
           },
           {
            "bin_start": 6.4,
            "bin_end": 7.2,
            "count": 0
           },
           {
            "bin_start": 7.2,
            "bin_end": 8,
            "count": 1
           }
          ]
         }
        },
        {
         "name": "Glucose",
         "dtype": "int64",
         "stats": {
          "unique_count": 5,
          "nan_count": 0,
          "min": "85",
          "max": "183",
          "histogram": [
           {
            "bin_start": 85,
            "bin_end": 94.8,
            "count": 2
           },
           {
            "bin_start": 94.8,
            "bin_end": 104.6,
            "count": 0
           },
           {
            "bin_start": 104.6,
            "bin_end": 114.4,
            "count": 0
           },
           {
            "bin_start": 114.4,
            "bin_end": 124.2,
            "count": 0
           },
           {
            "bin_start": 124.2,
            "bin_end": 134,
            "count": 0
           },
           {
            "bin_start": 134,
            "bin_end": 143.8,
            "count": 1
           },
           {
            "bin_start": 143.8,
            "bin_end": 153.60000000000002,
            "count": 1
           },
           {
            "bin_start": 153.60000000000002,
            "bin_end": 163.4,
            "count": 0
           },
           {
            "bin_start": 163.4,
            "bin_end": 173.2,
            "count": 0
           },
           {
            "bin_start": 173.2,
            "bin_end": 183,
            "count": 1
           }
          ]
         }
        },
        {
         "name": "BloodPressure",
         "dtype": "int64",
         "stats": {
          "unique_count": 4,
          "nan_count": 0,
          "min": "40",
          "max": "72",
          "histogram": [
           {
            "bin_start": 40,
            "bin_end": 43.2,
            "count": 1
           },
           {
            "bin_start": 43.2,
            "bin_end": 46.4,
            "count": 0
           },
           {
            "bin_start": 46.4,
            "bin_end": 49.6,
            "count": 0
           },
           {
            "bin_start": 49.6,
            "bin_end": 52.8,
            "count": 0
           },
           {
            "bin_start": 52.8,
            "bin_end": 56,
            "count": 0
           },
           {
            "bin_start": 56,
            "bin_end": 59.2,
            "count": 0
           },
           {
            "bin_start": 59.2,
            "bin_end": 62.400000000000006,
            "count": 0
           },
           {
            "bin_start": 62.400000000000006,
            "bin_end": 65.6,
            "count": 1
           },
           {
            "bin_start": 65.6,
            "bin_end": 68.8,
            "count": 2
           },
           {
            "bin_start": 68.8,
            "bin_end": 72,
            "count": 1
           }
          ]
         }
        },
        {
         "name": "SkinThickness",
         "dtype": "int64",
         "stats": {
          "unique_count": 4,
          "nan_count": 0,
          "min": "0",
          "max": "35",
          "histogram": [
           {
            "bin_start": 0,
            "bin_end": 3.5,
            "count": 1
           },
           {
            "bin_start": 3.5,
            "bin_end": 7,
            "count": 0
           },
           {
            "bin_start": 7,
            "bin_end": 10.5,
            "count": 0
           },
           {
            "bin_start": 10.5,
            "bin_end": 14,
            "count": 0
           },
           {
            "bin_start": 14,
            "bin_end": 17.5,
            "count": 0
           },
           {
            "bin_start": 17.5,
            "bin_end": 21,
            "count": 0
           },
           {
            "bin_start": 21,
            "bin_end": 24.5,
            "count": 1
           },
           {
            "bin_start": 24.5,
            "bin_end": 28,
            "count": 0
           },
           {
            "bin_start": 28,
            "bin_end": 31.5,
            "count": 1
           },
           {
            "bin_start": 31.5,
            "bin_end": 35,
            "count": 2
           }
          ]
         }
        },
        {
         "name": "Insulin",
         "dtype": "int64",
         "stats": {
          "unique_count": 3,
          "nan_count": 0,
          "min": "0",
          "max": "168",
          "histogram": [
           {
            "bin_start": 0,
            "bin_end": 16.8,
            "count": 3
           },
           {
            "bin_start": 16.8,
            "bin_end": 33.6,
            "count": 0
           },
           {
            "bin_start": 33.6,
            "bin_end": 50.400000000000006,
            "count": 0
           },
           {
            "bin_start": 50.400000000000006,
            "bin_end": 67.2,
            "count": 0
           },
           {
            "bin_start": 67.2,
            "bin_end": 84,
            "count": 0
           },
           {
            "bin_start": 84,
            "bin_end": 100.80000000000001,
            "count": 1
           },
           {
            "bin_start": 100.80000000000001,
            "bin_end": 117.60000000000001,
            "count": 0
           },
           {
            "bin_start": 117.60000000000001,
            "bin_end": 134.4,
            "count": 0
           },
           {
            "bin_start": 134.4,
            "bin_end": 151.20000000000002,
            "count": 0
           },
           {
            "bin_start": 151.20000000000002,
            "bin_end": 168,
            "count": 1
           }
          ]
         }
        },
        {
         "name": "BMI",
         "dtype": "float64",
         "stats": {
          "unique_count": 5,
          "nan_count": 0,
          "min": "23.3",
          "max": "43.1",
          "histogram": [
           {
            "bin_start": 23.3,
            "bin_end": 25.28,
            "count": 1
           },
           {
            "bin_start": 25.28,
            "bin_end": 27.26,
            "count": 1
           },
           {
            "bin_start": 27.26,
            "bin_end": 29.240000000000002,
            "count": 1
           },
           {
            "bin_start": 29.240000000000002,
            "bin_end": 31.22,
            "count": 0
           },
           {
            "bin_start": 31.22,
            "bin_end": 33.2,
            "count": 0
           },
           {
            "bin_start": 33.2,
            "bin_end": 35.18,
            "count": 1
           },
           {
            "bin_start": 35.18,
            "bin_end": 37.16,
            "count": 0
           },
           {
            "bin_start": 37.16,
            "bin_end": 39.14,
            "count": 0
           },
           {
            "bin_start": 39.14,
            "bin_end": 41.120000000000005,
            "count": 0
           },
           {
            "bin_start": 41.120000000000005,
            "bin_end": 43.1,
            "count": 1
           }
          ]
         }
        },
        {
         "name": "DiabetesPedigreeFunction",
         "dtype": "float64",
         "stats": {
          "unique_count": 5,
          "nan_count": 0,
          "min": "0.167",
          "max": "2.288",
          "histogram": [
           {
            "bin_start": 0.167,
            "bin_end": 0.3791,
            "count": 2
           },
           {
            "bin_start": 0.3791,
            "bin_end": 0.5912000000000001,
            "count": 0
           },
           {
            "bin_start": 0.5912000000000001,
            "bin_end": 0.8033000000000001,
            "count": 2
           },
           {
            "bin_start": 0.8033000000000001,
            "bin_end": 1.0154,
            "count": 0
           },
           {
            "bin_start": 1.0154,
            "bin_end": 1.2275,
            "count": 0
           },
           {
            "bin_start": 1.2275,
            "bin_end": 1.4396000000000002,
            "count": 0
           },
           {
            "bin_start": 1.4396000000000002,
            "bin_end": 1.6517000000000002,
            "count": 0
           },
           {
            "bin_start": 1.6517000000000002,
            "bin_end": 1.8638000000000001,
            "count": 0
           },
           {
            "bin_start": 1.8638000000000001,
            "bin_end": 2.0759,
            "count": 0
           },
           {
            "bin_start": 2.0759,
            "bin_end": 2.288,
            "count": 1
           }
          ]
         }
        },
        {
         "name": "Age",
         "dtype": "int64",
         "stats": {
          "unique_count": 5,
          "nan_count": 0,
          "min": "21",
          "max": "50",
          "histogram": [
           {
            "bin_start": 21,
            "bin_end": 23.9,
            "count": 1
           },
           {
            "bin_start": 23.9,
            "bin_end": 26.8,
            "count": 0
           },
           {
            "bin_start": 26.8,
            "bin_end": 29.7,
            "count": 0
           },
           {
            "bin_start": 29.7,
            "bin_end": 32.6,
            "count": 2
           },
           {
            "bin_start": 32.6,
            "bin_end": 35.5,
            "count": 1
           },
           {
            "bin_start": 35.5,
            "bin_end": 38.4,
            "count": 0
           },
           {
            "bin_start": 38.4,
            "bin_end": 41.3,
            "count": 0
           },
           {
            "bin_start": 41.3,
            "bin_end": 44.2,
            "count": 0
           },
           {
            "bin_start": 44.2,
            "bin_end": 47.099999999999994,
            "count": 0
           },
           {
            "bin_start": 47.099999999999994,
            "bin_end": 50,
            "count": 1
           }
          ]
         }
        },
        {
         "name": "Outcome",
         "dtype": "int64",
         "stats": {
          "unique_count": 2,
          "nan_count": 0,
          "min": "0",
          "max": "1",
          "histogram": [
           {
            "bin_start": 0,
            "bin_end": 0.1,
            "count": 2
           },
           {
            "bin_start": 0.1,
            "bin_end": 0.2,
            "count": 0
           },
           {
            "bin_start": 0.2,
            "bin_end": 0.30000000000000004,
            "count": 0
           },
           {
            "bin_start": 0.30000000000000004,
            "bin_end": 0.4,
            "count": 0
           },
           {
            "bin_start": 0.4,
            "bin_end": 0.5,
            "count": 0
           },
           {
            "bin_start": 0.5,
            "bin_end": 0.6000000000000001,
            "count": 0
           },
           {
            "bin_start": 0.6000000000000001,
            "bin_end": 0.7000000000000001,
            "count": 0
           },
           {
            "bin_start": 0.7000000000000001,
            "bin_end": 0.8,
            "count": 0
           },
           {
            "bin_start": 0.8,
            "bin_end": 0.9,
            "count": 0
           },
           {
            "bin_start": 0.9,
            "bin_end": 1,
            "count": 3
           }
          ]
         }
        },
        {
         "name": "_deepnote_index_column",
         "dtype": "int64"
        }
       ],
       "rows_top": [
        {
         "Pregnancies": 6,
         "Glucose": 148,
         "BloodPressure": 72,
         "SkinThickness": 35,
         "Insulin": 0,
         "BMI": 33.6,
         "DiabetesPedigreeFunction": 0.627,
         "Age": 50,
         "Outcome": 1,
         "_deepnote_index_column": 0
        },
        {
         "Pregnancies": 1,
         "Glucose": 85,
         "BloodPressure": 66,
         "SkinThickness": 29,
         "Insulin": 0,
         "BMI": 26.6,
         "DiabetesPedigreeFunction": 0.351,
         "Age": 31,
         "Outcome": 0,
         "_deepnote_index_column": 1
        },
        {
         "Pregnancies": 8,
         "Glucose": 183,
         "BloodPressure": 64,
         "SkinThickness": 0,
         "Insulin": 0,
         "BMI": 23.3,
         "DiabetesPedigreeFunction": 0.672,
         "Age": 32,
         "Outcome": 1,
         "_deepnote_index_column": 2
        },
        {
         "Pregnancies": 1,
         "Glucose": 89,
         "BloodPressure": 66,
         "SkinThickness": 23,
         "Insulin": 94,
         "BMI": 28.1,
         "DiabetesPedigreeFunction": 0.167,
         "Age": 21,
         "Outcome": 0,
         "_deepnote_index_column": 3
        },
        {
         "Pregnancies": 0,
         "Glucose": 137,
         "BloodPressure": 40,
         "SkinThickness": 35,
         "Insulin": 168,
         "BMI": 43.1,
         "DiabetesPedigreeFunction": 2.288,
         "Age": 33,
         "Outcome": 1,
         "_deepnote_index_column": 4
        }
       ],
       "rows_bottom": null
      },
      "text/plain": "   Pregnancies  Glucose  BloodPressure  SkinThickness  Insulin   BMI  \\\n0            6      148             72             35        0  33.6   \n1            1       85             66             29        0  26.6   \n2            8      183             64              0        0  23.3   \n3            1       89             66             23       94  28.1   \n4            0      137             40             35      168  43.1   \n\n   DiabetesPedigreeFunction  Age  Outcome  \n0                     0.627   50        1  \n1                     0.351   31        0  \n2                     0.672   32        1  \n3                     0.167   21        0  \n4                     2.288   33        1  ",
      "text/html": "<div>\n<style scoped>\n    .dataframe tbody tr th:only-of-type {\n        vertical-align: middle;\n    }\n\n    .dataframe tbody tr th {\n        vertical-align: top;\n    }\n\n    .dataframe thead th {\n        text-align: right;\n    }\n</style>\n<table border=\"1\" class=\"dataframe\">\n  <thead>\n    <tr style=\"text-align: right;\">\n      <th></th>\n      <th>Pregnancies</th>\n      <th>Glucose</th>\n      <th>BloodPressure</th>\n      <th>SkinThickness</th>\n      <th>Insulin</th>\n      <th>BMI</th>\n      <th>DiabetesPedigreeFunction</th>\n      <th>Age</th>\n      <th>Outcome</th>\n    </tr>\n  </thead>\n  <tbody>\n    <tr>\n      <th>0</th>\n      <td>6</td>\n      <td>148</td>\n      <td>72</td>\n      <td>35</td>\n      <td>0</td>\n      <td>33.6</td>\n      <td>0.627</td>\n      <td>50</td>\n      <td>1</td>\n    </tr>\n    <tr>\n      <th>1</th>\n      <td>1</td>\n      <td>85</td>\n      <td>66</td>\n      <td>29</td>\n      <td>0</td>\n      <td>26.6</td>\n      <td>0.351</td>\n      <td>31</td>\n      <td>0</td>\n    </tr>\n    <tr>\n      <th>2</th>\n      <td>8</td>\n      <td>183</td>\n      <td>64</td>\n      <td>0</td>\n      <td>0</td>\n      <td>23.3</td>\n      <td>0.672</td>\n      <td>32</td>\n      <td>1</td>\n    </tr>\n    <tr>\n      <th>3</th>\n      <td>1</td>\n      <td>89</td>\n      <td>66</td>\n      <td>23</td>\n      <td>94</td>\n      <td>28.1</td>\n      <td>0.167</td>\n      <td>21</td>\n      <td>0</td>\n    </tr>\n    <tr>\n      <th>4</th>\n      <td>0</td>\n      <td>137</td>\n      <td>40</td>\n      <td>35</td>\n      <td>168</td>\n      <td>43.1</td>\n      <td>2.288</td>\n      <td>33</td>\n      <td>1</td>\n    </tr>\n  </tbody>\n</table>\n</div>"
     },
     "metadata": {}
    }
   ],
   "execution_count": null
  },
  {
   "cell_type": "code",
   "source": "dataset.shape",
   "metadata": {
    "tags": [],
    "cell_id": "00006-7342c9dc-3d6f-4bbd-a2a2-9fc2d4a635cb",
    "deepnote_to_be_reexecuted": false,
    "source_hash": "60577c1c",
    "execution_start": 1624655498516,
    "execution_millis": 13,
    "deepnote_cell_type": "code"
   },
   "outputs": [
    {
     "output_type": "execute_result",
     "execution_count": 5,
     "data": {
      "text/plain": "(768, 9)"
     },
     "metadata": {}
    }
   ],
   "execution_count": null
  },
  {
   "cell_type": "markdown",
   "source": "## Asignación de nuestros datos a las variables",
   "metadata": {
    "tags": [],
    "cell_id": "00008-319e1836-dfb5-4725-87a4-60c933e6824f",
    "deepnote_cell_type": "text-cell-h2"
   }
  },
  {
   "cell_type": "code",
   "source": "feature_cols = [\n    'Pregnancies',\n    'Glucose',\n    'BloodPressure',\n    'SkinThickness',\n    'Insulin',\n    'BMI',\n    'DiabetesPedigreeFunction'\n]\n\nX = dataset[feature_cols]\ny = dataset.Outcome",
   "metadata": {
    "tags": [],
    "cell_id": "00007-53e59fc2-3a63-4a5f-9ce2-d5c547c7fa7b",
    "deepnote_to_be_reexecuted": false,
    "source_hash": "bf33997e",
    "execution_start": 1624655932502,
    "execution_millis": 0,
    "deepnote_cell_type": "code"
   },
   "outputs": [],
   "execution_count": null
  },
  {
   "cell_type": "markdown",
   "source": "## Dividir los datos de testing y training",
   "metadata": {
    "tags": [],
    "cell_id": "00010-c6ed8d4a-c7f9-4e19-bef4-0c9e986da338",
    "deepnote_cell_type": "text-cell-h2"
   }
  },
  {
   "cell_type": "code",
   "source": "X_train, X_test, y_train, y_test = train_test_split(X, y, test_size=0.25, random_state=0)",
   "metadata": {
    "tags": [],
    "cell_id": "00009-2e5ec55b-e091-4705-ac5e-70be89a7e6de",
    "deepnote_to_be_reexecuted": false,
    "source_hash": "cab0235e",
    "execution_start": 1624655951676,
    "execution_millis": 1,
    "deepnote_cell_type": "code"
   },
   "outputs": [],
   "execution_count": null
  },
  {
   "cell_type": "markdown",
   "source": "## Entrenando a nuestro modelo",
   "metadata": {
    "tags": [],
    "cell_id": "00012-568795bb-cd32-42dc-b890-9c8bc42c0a64",
    "deepnote_cell_type": "text-cell-h2"
   }
  },
  {
   "cell_type": "code",
   "source": "# Llamamos a nuestro modelo\nlog_reg = LogisticRegression()\n# Entrenamos a nuestro modelo\nlog_reg.fit(X_train, y_train)\n# Tomamos las predicciones que realiza el modelo\ny_pred = log_reg.predict(X_test)",
   "metadata": {
    "tags": [],
    "cell_id": "00012-05c439b8-5d4e-4298-828e-c3e3daf7adfd",
    "deepnote_to_be_reexecuted": false,
    "source_hash": "1040168a",
    "execution_start": 1624656145638,
    "execution_millis": 1,
    "deepnote_cell_type": "code"
   },
   "outputs": [],
   "execution_count": null
  },
  {
   "cell_type": "code",
   "source": "print(y_pred)",
   "metadata": {
    "tags": [],
    "cell_id": "00014-2124f0ca-1382-4fe7-b539-06545bb362ed",
    "deepnote_to_be_reexecuted": false,
    "source_hash": "27a0c00a",
    "execution_start": 1624656093640,
    "execution_millis": 7,
    "deepnote_cell_type": "code"
   },
   "outputs": [
    {
     "name": "stdout",
     "text": "[1 0 0 1 0 0 1 1 0 0 1 1 0 0 0 0 1 0 0 0 1 0 0 0 0 0 0 1 0 0 0 0 0 0 0 1 0\n 0 0 1 0 0 0 1 1 0 0 0 0 0 0 0 1 1 0 0 0 1 0 0 1 1 0 1 1 1 1 0 0 0 0 0 0 1\n 1 0 0 1 0 0 0 0 0 0 0 0 0 0 1 0 0 0 0 0 1 0 0 1 0 0 0 0 0 0 1 0 0 0 0 1 0\n 0 1 0 1 1 0 1 0 1 0 0 0 0 0 0 0 0 0 0 0 0 0 1 0 0 0 0 1 0 0 1 0 0 0 0 0 0\n 0 0 0 1 0 0 1 0 1 0 0 1 1 1 0 0 1 0 0 0 0 0 0 0 0 0 0 0 0 0 0 0 0 1 0 1 1\n 0 1 0 0 0 0 0]\n",
     "output_type": "stream"
    }
   ],
   "execution_count": null
  },
  {
   "cell_type": "markdown",
   "source": "## Matriz de confusión",
   "metadata": {
    "tags": [],
    "cell_id": "00015-a9e465e6-d9f1-467f-aabe-700fc4e43e3c",
    "deepnote_cell_type": "text-cell-h2"
   }
  },
  {
   "cell_type": "markdown",
   "source": "La matriz de confusión nos permite evaluar el desempeño de un algoritmo de clasificación a partir del conteo de los aciertos y errores en cada una de las clases del algoritmo.",
   "metadata": {
    "tags": [],
    "cell_id": "00016-81137321-2423-4efb-a6c9-fc3c04015b9b",
    "deepnote_cell_type": "markdown"
   }
  },
  {
   "cell_type": "markdown",
   "source": "Primero deberemos crear nuestra matriz de confusión, para ello debemos utilizar la función que viene en metrics, a la cual le vamos a pasar los datos de testeo y predicción en nuestro eje y.",
   "metadata": {
    "tags": [],
    "cell_id": "00016-db30396b-00ab-44c1-b663-403afca40ddc",
    "deepnote_cell_type": "markdown"
   }
  },
  {
   "cell_type": "code",
   "source": "cnf_matrix = metrics.confusion_matrix(y_test, y_pred)",
   "metadata": {
    "tags": [],
    "cell_id": "00015-7d1a3147-9b35-4186-9da3-e0806c3aa00c",
    "deepnote_to_be_reexecuted": false,
    "source_hash": "764de5ec",
    "execution_start": 1624658767458,
    "execution_millis": 0,
    "deepnote_cell_type": "code"
   },
   "outputs": [],
   "execution_count": null
  },
  {
   "cell_type": "markdown",
   "source": "### Graficando nuestra matriz",
   "metadata": {
    "tags": [],
    "cell_id": "00018-81989d8e-83aa-42ea-8eef-aa88d2f6df93",
    "deepnote_cell_type": "text-cell-h3"
   }
  },
  {
   "cell_type": "code",
   "source": "# Colocamos los nombres de nuestras clases, que serán 1 y 0\nclass_names = [0, 1]\n# Creamos los subplots\nfig, ax = plt.subplots()\n# Definimos los ejes con sus respectivas etiquetas\ntick_marks = np.arange(len(class_names))\nplt.xticks(tick_marks, class_names)\nplt.yticks(tick_marks, class_names)\n\n# Graficamos nuestra matriz como un heatmap\nsns.heatmap(pd.DataFrame(cnf_matrix), annot=True, cmap='Blues_r', fmt='g')\nax.xaxis.set_label_position('top')\nplt.tight_layout()\nplt.title('Matríz de confusión', y=1.1)\nplt.ylabel('Etiqueta actual')\nplt.xlabel('Etiqueta de predicción')",
   "metadata": {
    "tags": [],
    "cell_id": "00017-c47fc31e-2b60-442d-be5a-b74955386a71",
    "deepnote_to_be_reexecuted": false,
    "source_hash": "995a7dc3",
    "execution_start": 1624659102091,
    "execution_millis": 388,
    "deepnote_cell_type": "code"
   },
   "outputs": [
    {
     "output_type": "execute_result",
     "execution_count": 16,
     "data": {
      "text/plain": "Text(0.5, 257.44, 'Etiqueta de predicción')"
     },
     "metadata": {}
    },
    {
     "data": {
      "text/plain": "<Figure size 432x288 with 2 Axes>",
      "image/png": "[encoded data removed]"
     },
     "metadata": {
      "needs_background": "light",
      "image/png": {
       "width": 418,
       "height": 321
      }
     },
     "output_type": "display_data"
    }
   ],
   "execution_count": null
  },
  {
   "cell_type": "markdown",
   "source": "Como podemos observar en la gráfica, las intersecciones entre la misma etiqueta son los datos que acertó correctamente nuestro modelo, asignandole la etiqueta que debe. Los otros datos, son a los que se les asignó de manera erronea su etiqueta.\n\n---\n\nAhora podemos saber el porcentaje de aciertos que tuvo nuestro modelo de regresión logística, y para ello utilizamos igualmente la librería de metrics",
   "metadata": {
    "tags": [],
    "cell_id": "00020-b90949a6-2a72-4bef-8a4a-7813d634c517",
    "deepnote_cell_type": "markdown"
   }
  },
  {
   "cell_type": "code",
   "source": "print(\"Precisión:\", metrics.accuracy_score(y_test, y_pred))",
   "metadata": {
    "tags": [],
    "cell_id": "00018-04f5e03e-ce5e-49f5-bca2-c77cb87859d6",
    "deepnote_to_be_reexecuted": false,
    "source_hash": "2e159a76",
    "execution_start": 1624659577226,
    "execution_millis": 14,
    "deepnote_cell_type": "code"
   },
   "outputs": [
    {
     "name": "stdout",
     "text": "Precisión: 0.796875\n",
     "output_type": "stream"
    }
   ],
   "execution_count": null
  },
  {
   "cell_type": "markdown",
   "source": "<a style='text-decoration:none;line-height:16px;display:flex;color:#5B5B62;padding:10px;justify-content:end;' href='https://deepnote.com?utm_source=created-in-deepnote-cell&projectId=ad872c02-f972-4050-8982-5e370bea3600' target=\"_blank\">\n<img alt='Created in deepnote.com' style='display:inline;max-height:16px;margin:0px;margin-right:7.5px;' src='data:image/svg+xml;base64,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' > </img>\nCreated in <span style='font-weight:600;margin-left:4px;'>Deepnote</span></a>",
   "metadata": {
    "tags": [],
    "created_in_deepnote_cell": true,
    "deepnote_cell_type": "markdown"
   }
  }
 ],
 "nbformat": 4,
 "nbformat_minor": 2,
 "metadata": {
  "orig_nbformat": 2,
  "deepnote": {
   "is_reactive": false
  },
  "deepnote_notebook_id": "ed7b212b-5223-4014-8f86-c3087216016b",
  "deepnote_execution_queue": []
 }
}