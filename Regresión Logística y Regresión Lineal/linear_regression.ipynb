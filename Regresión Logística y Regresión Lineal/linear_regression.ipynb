{
 "cells": [
  {
   "cell_type": "markdown",
   "source": "# Regresión Lineal simple",
   "metadata": {
    "tags": [],
    "cell_id": "00000-5948d2c1-2da2-457c-9a20-37d77551a7ba",
    "deepnote_cell_type": "text-cell-h1"
   }
  },
  {
   "cell_type": "markdown",
   "source": "## Importamos las librerías que vamos a utilizar",
   "metadata": {
    "tags": [],
    "cell_id": "00001-c72941ed-1334-4270-80c1-cca38c363f23",
    "deepnote_cell_type": "text-cell-h2"
   }
  },
  {
   "cell_type": "code",
   "metadata": {
    "tags": [],
    "cell_id": "00000-d4b33c31-0a6a-4b45-becb-102751e59dae",
    "deepnote_to_be_reexecuted": false,
    "source_hash": "5ae00f8b",
    "execution_start": 1624638010037,
    "execution_millis": 1005,
    "deepnote_cell_type": "code"
   },
   "source": "import pandas as pd\nimport matplotlib.pyplot as plt\nfrom sklearn.model_selection import train_test_split\nfrom sklearn.linear_model import LinearRegression",
   "outputs": [],
   "execution_count": null
  },
  {
   "cell_type": "markdown",
   "source": "## Importamos nuestro datataset",
   "metadata": {
    "tags": [],
    "cell_id": "00002-c8386c0d-e7b0-4358-925f-37b17d5acffa",
    "deepnote_cell_type": "text-cell-h2"
   }
  },
  {
   "cell_type": "code",
   "metadata": {
    "tags": [],
    "cell_id": "00002-2debb67d-577b-4e02-939c-48fde89dd8f4",
    "deepnote_to_be_reexecuted": false,
    "source_hash": "22abeee6",
    "execution_start": 1624638121787,
    "execution_millis": 25,
    "deepnote_cell_type": "code"
   },
   "source": "dataset = pd.read_csv('/datasets/salarios/salarios.csv')\nprint(dataset.head)",
   "outputs": [
    {
     "name": "stdout",
     "text": "<bound method NDFrame.head of     Aexperiencia  Salario\n0           10.0    42500\n1            8.0    36302\n2            5.4    35000\n3            2.5    18103\n4            1.0    15000\n5            8.0    37000\n6            4.0    26300\n7            6.0    35201\n8            2.0    18302\n9           10.0    42000\n10           4.0    27000\n11           7.0    35201\n12           3.0    19201\n13           5.0    28000\n14           2.0    17000\n15           5.0    33402\n16           3.0    19000\n17           2.0    18200\n18           3.0    19000\n19           2.0    17301\n20           5.0    28000\n21           3.4    20000\n22           5.3    27900\n23           2.1    17500\n24           9.2    40000\n25          10.0    42500\n26           3.2    18300\n27          10.0    40000\n28           4.0    25000\n29           1.0    15000>\n",
     "output_type": "stream"
    }
   ],
   "execution_count": null
  },
  {
   "cell_type": "code",
   "metadata": {
    "tags": [],
    "cell_id": "00003-4e72a971-5192-414b-bb66-fe41123b2fe5",
    "deepnote_to_be_reexecuted": false,
    "source_hash": "60577c1c",
    "execution_start": 1624638319277,
    "execution_millis": 19,
    "deepnote_cell_type": "code"
   },
   "source": "dataset.shape",
   "outputs": [
    {
     "output_type": "execute_result",
     "execution_count": 15,
     "data": {
      "text/plain": "(30, 2)"
     },
     "metadata": {}
    }
   ],
   "execution_count": null
  },
  {
   "cell_type": "markdown",
   "source": "## Entrenando a nuestro modelo",
   "metadata": {
    "tags": [],
    "cell_id": "00006-f56d9d9e-f87d-4c80-9902-e5258cd27cb7",
    "deepnote_cell_type": "text-cell-h2"
   }
  },
  {
   "cell_type": "markdown",
   "source": "Con **iloc** vamos a obtener el valor de las columnas en nuestro dataset. ",
   "metadata": {
    "tags": [],
    "cell_id": "00006-75fd397e-7026-485b-9efe-1acfa359b8f4",
    "deepnote_cell_type": "markdown"
   }
  },
  {
   "cell_type": "code",
   "metadata": {
    "tags": [],
    "cell_id": "00006-ed6ea65a-fa5d-40da-800e-0c2a17965cd1",
    "deepnote_to_be_reexecuted": false,
    "source_hash": "7fea0bbc",
    "execution_start": 1624638414679,
    "execution_millis": 8,
    "deepnote_cell_type": "code"
   },
   "source": "x = dataset.iloc[:, :-1].values\ny = dataset.iloc[:, 1].values",
   "outputs": [],
   "execution_count": null
  },
  {
   "cell_type": "markdown",
   "source": "Ahora con **train_test_split** vamos dividir los datos para entrenar a nuestro modelo, asignando una variable de entrenamiento y otra de testeo en nuestra X y Y.\nPara ello deberemos pasar como parametro las columnas X y Y, luego le decimos el tamaño que tendr&aacute; nuestro test (normalmente deber&iacute;a ser de un 20/30% para tener un buen entrenamiento y testeo) y por &uacute;ltimo le indicamos que tan random ser&aacute; nuestro entrenamiento con los datos. ",
   "metadata": {
    "tags": [],
    "cell_id": "00008-5e9d18a1-8512-46e4-a0ce-798851c85446",
    "deepnote_cell_type": "markdown"
   }
  },
  {
   "cell_type": "code",
   "metadata": {
    "tags": [],
    "cell_id": "00007-525a6a5f-c03b-455c-8c22-6000b715b42b",
    "deepnote_to_be_reexecuted": false,
    "source_hash": "700f66c3",
    "execution_start": 1624638892162,
    "execution_millis": 0,
    "deepnote_cell_type": "code"
   },
   "source": "X_train, X_test, Y_train, Y_test = train_test_split(x, y, test_size=0.2, random_state=0)",
   "outputs": [],
   "execution_count": null
  },
  {
   "cell_type": "markdown",
   "source": "---\nAhora vamos a entrenar a nuestro modelo de regresi&oacute;n lineal, para ello vamos a asignarle a una variable nuestro modelo que importamos anteriormente. Una vez declarada la variable y asignada, vamos a entrenar ahora s&iacute; este modelo con la propiedad **fit** del modelo de sklearn.",
   "metadata": {
    "tags": [],
    "cell_id": "00011-77286a36-8645-4b5b-8cb5-19e5d86ca725",
    "deepnote_cell_type": "markdown"
   }
  },
  {
   "cell_type": "code",
   "metadata": {
    "tags": [],
    "cell_id": "00010-7e3af56e-ad7a-408a-826c-354c8dae152f",
    "deepnote_to_be_reexecuted": false,
    "source_hash": "4ff6d930",
    "execution_start": 1624639035457,
    "execution_millis": 13,
    "deepnote_cell_type": "code"
   },
   "source": "lr = LinearRegression()\nlr.fit(X_train, Y_train)",
   "outputs": [
    {
     "output_type": "execute_result",
     "execution_count": 20,
     "data": {
      "text/plain": "LinearRegression()"
     },
     "metadata": {}
    }
   ],
   "execution_count": null
  },
  {
   "cell_type": "markdown",
   "source": "## Visualizacion de los datos",
   "metadata": {
    "tags": [],
    "cell_id": "00013-bcf68bd5-a5bd-431c-8102-ba4e8a7ab01c",
    "deepnote_cell_type": "text-cell-h2"
   }
  },
  {
   "cell_type": "markdown",
   "source": "Ahora vamos a mostrar en un gr&aacute;fico nuestros datos para visualizar que lo estamos realizando de manera correcta.",
   "metadata": {
    "tags": [],
    "cell_id": "00013-bb50e6ee-ad9c-4906-93ed-40516bae2413",
    "deepnote_cell_type": "markdown"
   }
  },
  {
   "cell_type": "markdown",
   "source": "### Datos de entrenamiento",
   "metadata": {
    "tags": [],
    "cell_id": "00014-8db9e058-c1c5-41be-9476-d875553cb6f0",
    "deepnote_cell_type": "text-cell-h3"
   }
  },
  {
   "cell_type": "code",
   "metadata": {
    "tags": [],
    "cell_id": "00011-0de0faa1-28f7-4d5b-b1bb-a644eed9b65b",
    "deepnote_to_be_reexecuted": false,
    "source_hash": "934ecd18",
    "execution_start": 1624639670704,
    "execution_millis": 337,
    "deepnote_cell_type": "code"
   },
   "source": "# Primero debemos pasarlo los puntos de nuestro dataset, en este caso los de entrenamiento\nplt.scatter(X_train, Y_train, color='blue')\n# Ahora vamos a trazar la linea que pasa por el medio de estos datos, la regresion lineal\nplt.plot(X_train, lr.predict(X_train), color='black')\n# Colocamos el titulo de la grafica y los de cada eje\nplt.title('Salario vs Experiencia (train)')\nplt.xlabel('Experiencia')\nplt.ylabel('Salario')\n# Mostramos nuestra grafica\nplt.show()",
   "outputs": [
    {
     "data": {
      "text/plain": "<Figure size 432x288 with 1 Axes>",
      "image/png": "[encoded data removed]"
     },
     "metadata": {
      "needs_background": "light",
      "image/png": {
       "width": 401,
       "height": 278
      }
     },
     "output_type": "display_data"
    }
   ],
   "execution_count": null
  },
  {
   "cell_type": "markdown",
   "source": "### Datos de prueba",
   "metadata": {
    "tags": [],
    "cell_id": "00017-d1a94e0c-6882-4d13-a618-7daa8d5b44fc",
    "deepnote_cell_type": "text-cell-h3"
   }
  },
  {
   "cell_type": "code",
   "metadata": {
    "tags": [],
    "cell_id": "00014-39003695-e21c-4a9e-bf00-861c714d6bbe",
    "deepnote_to_be_reexecuted": false,
    "source_hash": "287bbe2e",
    "execution_start": 1624639675572,
    "execution_millis": 189,
    "deepnote_cell_type": "code"
   },
   "source": "# Primero debemos pasarlo los puntos de nuestro dataset, en este caso los de entrenamiento\nplt.scatter(X_test, Y_test, color='red')\n# Ahora vamos a trazar la linea que pasa por el medio de estos datos, la regresion lineal\nplt.plot(X_train, lr.predict(X_train), color='blue')\n# Colocamos el titulo de la grafica y los de cada eje\nplt.title('Salario vs Experiencia (test)')\nplt.xlabel('Experiencia')\nplt.ylabel('Salario')\n# Mostramos nuestra grafica\nplt.show()",
   "outputs": [
    {
     "data": {
      "text/plain": "<Figure size 432x288 with 1 Axes>",
      "image/png": "[encoded data removed]"
     },
     "metadata": {
      "needs_background": "light",
      "image/png": {
       "width": 401,
       "height": 278
      }
     },
     "output_type": "display_data"
    }
   ],
   "execution_count": null
  },
  {
   "cell_type": "markdown",
   "source": "### Score de entrenamiento\nAhora vamos a saber el porcentaje de acierto en nuestro modelo de predicci&oacute;n",
   "metadata": {
    "tags": [],
    "cell_id": "00019-373ef45e-68fd-4e3a-933c-f6b335fce1a9",
    "deepnote_cell_type": "markdown"
   }
  },
  {
   "cell_type": "code",
   "metadata": {
    "tags": [],
    "cell_id": "00019-2ec2ade7-a1f7-4bc1-ac5e-44371ccb8a84",
    "deepnote_to_be_reexecuted": false,
    "source_hash": "b7220763",
    "execution_start": 1624639718806,
    "execution_millis": 9,
    "deepnote_cell_type": "code"
   },
   "source": "lr.score(X_test, Y_test)",
   "outputs": [
    {
     "output_type": "execute_result",
     "execution_count": 27,
     "data": {
      "text/plain": "0.7862437374732997"
     },
     "metadata": {}
    }
   ],
   "execution_count": null
  },
  {
   "cell_type": "markdown",
   "source": "<a style='text-decoration:none;line-height:16px;display:flex;color:#5B5B62;padding:10px;justify-content:end;' href='https://deepnote.com?utm_source=created-in-deepnote-cell&projectId=ad872c02-f972-4050-8982-5e370bea3600' target=\"_blank\">\n<img alt='Created in deepnote.com' style='display:inline;max-height:16px;margin:0px;margin-right:7.5px;' src='data:image/svg+xml;base64,PD94bWwgdmVyc2lvbj0iMS4wIiBlbmNvZGluZz0iVVRGLTgiPz4KPHN2ZyB3aWR0aD0iODBweCIgaGVpZ2h0PSI4MHB4IiB2aWV3Qm94PSIwIDAgODAgODAiIHZlcnNpb249IjEuMSIgeG1sbnM9Imh0dHA6Ly93d3cudzMub3JnLzIwMDAvc3ZnIiB4bWxuczp4bGluaz0iaHR0cDovL3d3dy53My5vcmcvMTk5OS94bGluayI+CiAgICA8IS0tIEdlbmVyYXRvcjogU2tldGNoIDU0LjEgKDc2NDkwKSAtIGh0dHBzOi8vc2tldGNoYXBwLmNvbSAtLT4KICAgIDx0aXRsZT5Hcm91cCAzPC90aXRsZT4KICAgIDxkZXNjPkNyZWF0ZWQgd2l0aCBTa2V0Y2guPC9kZXNjPgogICAgPGcgaWQ9IkxhbmRpbmciIHN0cm9rZT0ibm9uZSIgc3Ryb2tlLXdpZHRoPSIxIiBmaWxsPSJub25lIiBmaWxsLXJ1bGU9ImV2ZW5vZGQiPgogICAgICAgIDxnIGlkPSJBcnRib2FyZCIgdHJhbnNmb3JtPSJ0cmFuc2xhdGUoLTEyMzUuMDAwMDAwLCAtNzkuMDAwMDAwKSI+CiAgICAgICAgICAgIDxnIGlkPSJHcm91cC0zIiB0cmFuc2Zvcm09InRyYW5zbGF0ZSgxMjM1LjAwMDAwMCwgNzkuMDAwMDAwKSI+CiAgICAgICAgICAgICAgICA8cG9seWdvbiBpZD0iUGF0aC0yMCIgZmlsbD0iIzAyNjVCNCIgcG9pbnRzPSIyLjM3NjIzNzYyIDgwIDM4LjA0NzY2NjcgODAgNTcuODIxNzgyMiA3My44MDU3NTkyIDU3LjgyMTc4MjIgMzIuNzU5MjczOSAzOS4xNDAyMjc4IDMxLjY4MzE2ODMiPjwvcG9seWdvbj4KICAgICAgICAgICAgICAgIDxwYXRoIGQ9Ik0zNS4wMDc3MTgsODAgQzQyLjkwNjIwMDcsNzYuNDU0OTM1OCA0Ny41NjQ5MTY3LDcxLjU0MjI2NzEgNDguOTgzODY2LDY1LjI2MTk5MzkgQzUxLjExMjI4OTksNTUuODQxNTg0MiA0MS42NzcxNzk1LDQ5LjIxMjIyODQgMjUuNjIzOTg0Niw0OS4yMTIyMjg0IEMyNS40ODQ5Mjg5LDQ5LjEyNjg0NDggMjkuODI2MTI5Niw0My4yODM4MjQ4IDM4LjY0NzU4NjksMzEuNjgzMTY4MyBMNzIuODcxMjg3MSwzMi41NTQ0MjUgTDY1LjI4MDk3Myw2Ny42NzYzNDIxIEw1MS4xMTIyODk5LDc3LjM3NjE0NCBMMzUuMDA3NzE4LDgwIFoiIGlkPSJQYXRoLTIyIiBmaWxsPSIjMDAyODY4Ij48L3BhdGg+CiAgICAgICAgICAgICAgICA8cGF0aCBkPSJNMCwzNy43MzA0NDA1IEwyNy4xMTQ1MzcsMC4yNTcxMTE0MzYgQzYyLjM3MTUxMjMsLTEuOTkwNzE3MDEgODAsMTAuNTAwMzkyNyA4MCwzNy43MzA0NDA1IEM4MCw2NC45NjA0ODgyIDY0Ljc3NjUwMzgsNzkuMDUwMzQxNCAzNC4zMjk1MTEzLDgwIEM0Ny4wNTUzNDg5LDc3LjU2NzA4MDggNTMuNDE4MjY3Nyw3MC4zMTM2MTAzIDUzLjQxODI2NzcsNTguMjM5NTg4NSBDNTMuNDE4MjY3Nyw0MC4xMjg1NTU3IDM2LjMwMzk1NDQsMzcuNzMwNDQwNSAyNS4yMjc0MTcsMzcuNzMwNDQwNSBDMTcuODQzMDU4NiwzNy43MzA0NDA1IDkuNDMzOTE5NjYsMzcuNzMwNDQwNSAwLDM3LjczMDQ0MDUgWiIgaWQ9IlBhdGgtMTkiIGZpbGw9IiMzNzkzRUYiPjwvcGF0aD4KICAgICAgICAgICAgPC9nPgogICAgICAgIDwvZz4KICAgIDwvZz4KPC9zdmc+' > </img>\nCreated in <span style='font-weight:600;margin-left:4px;'>Deepnote</span></a>",
   "metadata": {
    "tags": [],
    "created_in_deepnote_cell": true,
    "deepnote_cell_type": "markdown"
   }
  }
 ],
 "nbformat": 4,
 "nbformat_minor": 2,
 "metadata": {
  "orig_nbformat": 2,
  "deepnote": {
   "is_reactive": false
  },
  "deepnote_notebook_id": "b526cf11-b850-412a-ad59-ec4e41ae572f",
  "deepnote_execution_queue": []
 }
}